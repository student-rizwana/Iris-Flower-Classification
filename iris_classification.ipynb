pip install notebook

jupyter notebook

import pandas as pd
import matplotlib.pyplot as plt
import seaborn as sns

# Load the dataset
df = pd.read_csv('dataset/Iris.csv')

# Explore the dataset
print(df.head())
print(df.info())
print(df.describe())

# Visualize pairplot
sns.pairplot(df, hue='Species')
plt.show()
